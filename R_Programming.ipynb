{
  "nbformat": 4,
  "nbformat_minor": 0,
  "metadata": {
    "colab": {
      "provenance": [],
      "gpuType": "T4"
    },
    "kernelspec": {
      "name": "ir",
      "display_name": "R"
    },
    "language_info": {
      "name": "R"
    },
    "accelerator": "GPU"
  },
  "cells": [
    {
      "cell_type": "code",
      "execution_count": null,
      "metadata": {
        "colab": {
          "base_uri": "https://localhost:8080/"
        },
        "id": "Ci4CX9fxsGCr",
        "outputId": "e23188a3-2ef2-4152-f8af-d95e0e0d5b36"
      },
      "outputs": [
        {
          "output_type": "stream",
          "name": "stderr",
          "text": [
            "Installing package into ‘/usr/local/lib/R/site-library’\n",
            "(as ‘lib’ is unspecified)\n",
            "\n"
          ]
        }
      ],
      "source": [
        "install.packages(\"randomForest\")"
      ]
    },
    {
      "cell_type": "code",
      "source": [
        "install.packages(\"caret\")"
      ],
      "metadata": {
        "colab": {
          "base_uri": "https://localhost:8080/"
        },
        "id": "eAlNIe9IsmLZ",
        "outputId": "6d8a3c03-83d1-43d9-fc96-0a671e3e2db6"
      },
      "execution_count": null,
      "outputs": [
        {
          "output_type": "stream",
          "name": "stderr",
          "text": [
            "Installing package into ‘/usr/local/lib/R/site-library’\n",
            "(as ‘lib’ is unspecified)\n",
            "\n",
            "also installing the dependencies ‘listenv’, ‘parallelly’, ‘future’, ‘globals’, ‘shape’, ‘future.apply’, ‘numDeriv’, ‘progressr’, ‘SQUAREM’, ‘diagram’, ‘lava’, ‘prodlim’, ‘proxy’, ‘iterators’, ‘clock’, ‘gower’, ‘hardhat’, ‘ipred’, ‘timeDate’, ‘e1071’, ‘foreach’, ‘ModelMetrics’, ‘plyr’, ‘pROC’, ‘recipes’, ‘reshape2’\n",
            "\n",
            "\n"
          ]
        }
      ]
    },
    {
      "cell_type": "code",
      "source": [
        "library(randomForest)\n",
        "library(caret)\n"
      ],
      "metadata": {
        "colab": {
          "base_uri": "https://localhost:8080/"
        },
        "id": "d_IJCPk5s3ZV",
        "outputId": "7bbdc2c4-fea0-4274-8b38-0389912e826f"
      },
      "execution_count": null,
      "outputs": [
        {
          "output_type": "stream",
          "name": "stderr",
          "text": [
            "randomForest 4.7-1.1\n",
            "\n",
            "Type rfNews() to see new features/changes/bug fixes.\n",
            "\n",
            "Loading required package: ggplot2\n",
            "\n",
            "\n",
            "Attaching package: ‘ggplot2’\n",
            "\n",
            "\n",
            "The following object is masked from ‘package:randomForest’:\n",
            "\n",
            "    margin\n",
            "\n",
            "\n",
            "Loading required package: lattice\n",
            "\n"
          ]
        }
      ]
    },
    {
      "cell_type": "code",
      "source": [
        "data <- read.csv(\"webtraffic.csv\")"
      ],
      "metadata": {
        "id": "grzN40JSuDLm"
      },
      "execution_count": null,
      "outputs": []
    },
    {
      "cell_type": "code",
      "source": [
        "data$lag1 <- lag(data$Sessions, 1)\n",
        "data$lag2 <- lag(data$Sessions, 2)\n",
        "data <- na.omit(data)"
      ],
      "metadata": {
        "id": "C_H5ys_buLiM"
      },
      "execution_count": null,
      "outputs": []
    },
    {
      "cell_type": "code",
      "source": [
        "set.seed(123)\n",
        "train_index <- createDataPartition(data$Sessions, p = 0.8, list = FALSE)\n",
        "train_data <- data[train_index, ]\n",
        "test_data <- data[-train_index, ]"
      ],
      "metadata": {
        "id": "9ftsZIcAuQUV"
      },
      "execution_count": null,
      "outputs": []
    },
    {
      "cell_type": "code",
      "source": [
        "rf_model <- randomForest(Sessions ~ lag1 + lag2, data = train_data)"
      ],
      "metadata": {
        "id": "AiI9WMpVuTmX"
      },
      "execution_count": null,
      "outputs": []
    },
    {
      "cell_type": "code",
      "source": [
        "predictions <- predict(rf_model, newdata = test_data)"
      ],
      "metadata": {
        "id": "qF55XwfvuZQl"
      },
      "execution_count": null,
      "outputs": []
    },
    {
      "cell_type": "code",
      "source": [
        "results <- data.frame(Actual = test_data$Sessions, Predicted = predictions)"
      ],
      "metadata": {
        "id": "4iKmUusnub2Z"
      },
      "execution_count": null,
      "outputs": []
    },
    {
      "cell_type": "code",
      "source": [
        "rmse <- sqrt(mean((results$Actual - results$Predicted)^2))\n",
        "cat(\"Root Mean Squared Error (RMSE):\", rmse, \"\\n\")"
      ],
      "metadata": {
        "colab": {
          "base_uri": "https://localhost:8080/"
        },
        "id": "QLEPWnO-ueLd",
        "outputId": "5a6c090e-9506-437e-b56d-8703a21b6007"
      },
      "execution_count": null,
      "outputs": [
        {
          "output_type": "stream",
          "name": "stdout",
          "text": [
            "Root Mean Squared Error (RMSE): 3749559 \n"
          ]
        }
      ]
    },
    {
      "cell_type": "code",
      "source": [
        "r_squared <- cor(results$Actual, results$Predicted)^2\n",
        "cat(\"R-squared:\", r_squared, \"\\n\")"
      ],
      "metadata": {
        "colab": {
          "base_uri": "https://localhost:8080/"
        },
        "id": "WCrgv5P1uiKy",
        "outputId": "3eeaf9ff-cafc-40c3-92d9-8de7ea079192"
      },
      "execution_count": null,
      "outputs": [
        {
          "output_type": "stream",
          "name": "stdout",
          "text": [
            "R-squared: 0.999983 \n"
          ]
        }
      ]
    },
    {
      "cell_type": "code",
      "source": [
        "library(ggplot2)"
      ],
      "metadata": {
        "id": "PbcZ72Equl0j"
      },
      "execution_count": null,
      "outputs": []
    },
    {
      "cell_type": "code",
      "source": [
        "ggplot(results, aes(x = Actual, y = Predicted)) +\n",
        "  geom_point() +\n",
        "  geom_abline(intercept = 0, slope = 1, color = 'red') +\n",
        "  theme_minimal() +\n",
        "  labs(title = \"Actual vs Predicted\", x = \"Actual Values\", y = \"Predicted Values\")"
      ],
      "metadata": {
        "colab": {
          "base_uri": "https://localhost:8080/",
          "height": 437
        },
        "id": "h8TGtS5cuoc5",
        "outputId": "83446a3b-edcc-45ef-803d-e806105ff3a0"
      },
      "execution_count": null,
      "outputs": [
        {
          "output_type": "display_data",
          "data": {
            "text/plain": [
              "plot without title"
            ],
            "image/png": "[encoded data removed]"
          },
          "metadata": {
            "image/png": {
              "width": 420,
              "height": 420
            }
          }
        }
      ]
    },
    {
      "cell_type": "code",
      "source": [
        "results$residuals <- results$Actual - results$Predicted"
      ],
      "metadata": {
        "id": "toCOIyMJvBs5"
      },
      "execution_count": null,
      "outputs": []
    },
    {
      "cell_type": "code",
      "source": [
        "ggplot(results, aes(x = Predicted, y = residuals)) +\n",
        "  geom_point() +\n",
        "  geom_hline(yintercept = 0, color = 'red') +\n",
        "  theme_minimal() +\n",
        "  labs(title = \"Residuals Plot\", x = \"Predicted Values\", y = \"Residuals\")"
      ],
      "metadata": {
        "colab": {
          "base_uri": "https://localhost:8080/",
          "height": 437
        },
        "id": "64W7nm-6vEbK",
        "outputId": "040932eb-46c5-413e-eec4-1d40cffb3118"
      },
      "execution_count": null,
      "outputs": [
        {
          "output_type": "display_data",
          "data": {
            "text/plain": [
              "plot without title"
            ],
            "image/png": "[encoded data removed]"
          },
          "metadata": {
            "image/png": {
              "width": 420,
              "height": 420
            }
          }
        }
      ]
    },
    {
      "cell_type": "code",
      "source": [
        "install.packages(\"keras\")\n",
        "library(keras)\n"
      ],
      "metadata": {
        "colab": {
          "base_uri": "https://localhost:8080/"
        },
        "id": "hLZbxitsvkXm",
        "outputId": "3a6a1d21-95f5-434f-8317-3d21ad598d8d"
      },
      "execution_count": null,
      "outputs": [
        {
          "output_type": "stream",
          "name": "stderr",
          "text": [
            "Installing package into ‘/usr/local/lib/R/site-library’\n",
            "(as ‘lib’ is unspecified)\n",
            "\n",
            "also installing the dependencies ‘RcppTOML’, ‘here’, ‘png’, ‘config’, ‘tfautograph’, ‘reticulate’, ‘tensorflow’, ‘tfruns’, ‘zeallot’\n",
            "\n",
            "\n"
          ]
        }
      ]
    },
    {
      "cell_type": "code",
      "source": [
        "set.seed(42)\n",
        "train_indices <- sample(1:nrow(data), 0.8 * nrow(data))\n",
        "train_data <- data[train_indices, ]\n",
        "test_data <- data[-train_indices, ]"
      ],
      "metadata": {
        "id": "ZfObLTuAv9Yc"
      },
      "execution_count": null,
      "outputs": []
    },
    {
      "cell_type": "code",
      "source": [
        "train_data <- scale(train_data)\n",
        "test_data <- scale(test_data)"
      ],
      "metadata": {
        "id": "OkmBU6duwBHD"
      },
      "execution_count": null,
      "outputs": []
    },
    {
      "cell_type": "code",
      "source": [
        "x_train <- as.matrix(train_data[, -ncol(train_data)])\n",
        "y_train <- as.matrix(train_data[, ncol(train_data)])"
      ],
      "metadata": {
        "id": "IoH-vBctwEIZ"
      },
      "execution_count": null,
      "outputs": []
    },
    {
      "cell_type": "code",
      "source": [
        "x_test <- as.matrix(test_data[, -ncol(test_data)])\n",
        "y_test <- as.matrix(test_data[, ncol(test_data)])"
      ],
      "metadata": {
        "id": "q4X_HlRVwJaE"
      },
      "execution_count": null,
      "outputs": []
    },
    {
      "cell_type": "code",
      "source": [
        "head(data)"
      ],
      "metadata": {
        "colab": {
          "base_uri": "https://localhost:8080/",
          "height": 286
        },
        "id": "0FHBUl6lxcI4",
        "outputId": "6ad3813d-30a5-4b90-fe4f-9f4265f06a99"
      },
      "execution_count": null,
      "outputs": [
        {
          "output_type": "display_data",
          "data": {
            "text/html": [
              "<table class=\"dataframe\">\n",
              "<caption>A data.frame: 6 × 4</caption>\n",
              "<thead>\n",
              "\t<tr><th></th><th scope=col>Hour.Index</th><th scope=col>Sessions</th><th scope=col>lag1</th><th scope=col>lag2</th></tr>\n",
              "\t<tr><th></th><th scope=col>&lt;int&gt;</th><th scope=col>&lt;dbl&gt;</th><th scope=col>&lt;dbl&gt;</th><th scope=col>&lt;dbl&gt;</th></tr>\n",
              "</thead>\n",
              "<tbody>\n",
              "\t<tr><th scope=row>1</th><td>0</td><td>1418159421</td><td>1418159421</td><td>1418159421</td></tr>\n",
              "\t<tr><th scope=row>2</th><td>1</td><td>1113769116</td><td>1113769116</td><td>1113769116</td></tr>\n",
              "\t<tr><th scope=row>3</th><td>2</td><td> 919158921</td><td> 919158921</td><td> 919158921</td></tr>\n",
              "\t<tr><th scope=row>4</th><td>3</td><td> 822352824</td><td> 822352824</td><td> 822352824</td></tr>\n",
              "\t<tr><th scope=row>5</th><td>4</td><td> 735526737</td><td> 735526737</td><td> 735526737</td></tr>\n",
              "\t<tr><th scope=row>6</th><td>5</td><td> 798400800</td><td> 798400800</td><td> 798400800</td></tr>\n",
              "</tbody>\n",
              "</table>\n"
            ],
            "text/markdown": "\nA data.frame: 6 × 4\n\n| <!--/--> | Hour.Index &lt;int&gt; | Sessions &lt;dbl&gt; | lag1 &lt;dbl&gt; | lag2 &lt;dbl&gt; |\n|---|---|---|---|---|\n| 1 | 0 | 1418159421 | 1418159421 | 1418159421 |\n| 2 | 1 | 1113769116 | 1113769116 | 1113769116 |\n| 3 | 2 |  919158921 |  919158921 |  919158921 |\n| 4 | 3 |  822352824 |  822352824 |  822352824 |\n| 5 | 4 |  735526737 |  735526737 |  735526737 |\n| 6 | 5 |  798400800 |  798400800 |  798400800 |\n\n",
            "text/latex": "A data.frame: 6 × 4\n\\begin{tabular}{r|llll}\n  & Hour.Index & Sessions & lag1 & lag2\\\\\n  & <int> & <dbl> & <dbl> & <dbl>\\\\\n\\hline\n\t1 & 0 & 1418159421 & 1418159421 & 1418159421\\\\\n\t2 & 1 & 1113769116 & 1113769116 & 1113769116\\\\\n\t3 & 2 &  919158921 &  919158921 &  919158921\\\\\n\t4 & 3 &  822352824 &  822352824 &  822352824\\\\\n\t5 & 4 &  735526737 &  735526737 &  735526737\\\\\n\t6 & 5 &  798400800 &  798400800 &  798400800\\\\\n\\end{tabular}\n",
            "text/plain": [
              "  Hour.Index Sessions   lag1       lag2      \n",
              "1 0          1418159421 1418159421 1418159421\n",
              "2 1          1113769116 1113769116 1113769116\n",
              "3 2           919158921  919158921  919158921\n",
              "4 3           822352824  822352824  822352824\n",
              "5 4           735526737  735526737  735526737\n",
              "6 5           798400800  798400800  798400800"
            ]
          },
          "metadata": {}
        }
      ]
    },
    {
      "cell_type": "code",
      "source": [
        "shape<-dim(data)"
      ],
      "metadata": {
        "id": "R98x1FF-xd26"
      },
      "execution_count": null,
      "outputs": []
    },
    {
      "cell_type": "code",
      "source": [
        "cat(\"The shape of the dataset is:\", shape[1], \"rows and\", shape[2], \"columns.\\n\")"
      ],
      "metadata": {
        "colab": {
          "base_uri": "https://localhost:8080/"
        },
        "id": "Ac09u9gbxlHI",
        "outputId": "4904f40b-5da2-456f-a6fa-525c00c25cfb"
      },
      "execution_count": null,
      "outputs": [
        {
          "output_type": "stream",
          "name": "stdout",
          "text": [
            "The shape of the dataset is: 4896 rows and 4 columns.\n"
          ]
        }
      ]
    },
    {
      "cell_type": "code",
      "source": [
        "library(keras)"
      ],
      "metadata": {
        "id": "I7-KdUrdxosl"
      },
      "execution_count": null,
      "outputs": []
    },
    {
      "cell_type": "code",
      "source": [
        "data$lag1 <- scale(data$lag1)\n",
        "data$lag2 <- scale(data$lag2)"
      ],
      "metadata": {
        "id": "blcxBqrqzHcn"
      },
      "execution_count": null,
      "outputs": []
    },
    {
      "cell_type": "code",
      "source": [
        "x <- as.matrix(data[, c(\"lag1\", \"lag2\")])\n",
        "y <- as.matrix(data$Sessions)"
      ],
      "metadata": {
        "id": "q7lRSoCKzKCy"
      },
      "execution_count": null,
      "outputs": []
    },
    {
      "cell_type": "code",
      "source": [
        "set.seed(123)\n",
        "train_indices <- sample(1:nrow(data), 0.8 * nrow(data))\n",
        "x_train <- x[train_indices, ]\n",
        "y_train <- y[train_indices]\n",
        "x_test <- x[-train_indices, ]\n",
        "y_test <- y[-train_indices]"
      ],
      "metadata": {
        "id": "-z7SRULezNsM"
      },
      "execution_count": null,
      "outputs": []
    },
    {
      "cell_type": "code",
      "source": [
        "model <- keras_model_sequential()"
      ],
      "metadata": {
        "id": "NYsSxniRzVxd"
      },
      "execution_count": null,
      "outputs": []
    },
    {
      "cell_type": "code",
      "source": [
        "data <- read.csv(\"webtraffic.csv\")"
      ],
      "metadata": {
        "id": "qwAZqdN4z5jL"
      },
      "execution_count": null,
      "outputs": []
    },
    {
      "cell_type": "code",
      "source": [
        "library(keras)\n",
        "packageVersion(\"keras\")\n",
        "packageVersion(\"tensorflow\")\n"
      ],
      "metadata": {
        "colab": {
          "base_uri": "https://localhost:8080/",
          "height": 52
        },
        "id": "Q9JqQri41Bex",
        "outputId": "b6ce9c4b-025e-424c-963c-0ccd58f4d103"
      },
      "execution_count": null,
      "outputs": [
        {
          "output_type": "display_data",
          "data": {
            "text/plain": [
              "[1] ‘2.15.0’"
            ]
          },
          "metadata": {}
        },
        {
          "output_type": "display_data",
          "data": {
            "text/plain": [
              "[1] ‘2.16.0’"
            ]
          },
          "metadata": {}
        }
      ]
    }
  ]
}